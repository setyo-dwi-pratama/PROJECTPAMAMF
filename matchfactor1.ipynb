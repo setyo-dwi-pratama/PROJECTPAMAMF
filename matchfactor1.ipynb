{
  "nbformat": 4,
  "nbformat_minor": 0,
  "metadata": {
    "colab": {
      "provenance": [],
      "authorship_tag": "ABX9TyNAKsYuCK6kATUq4KPCFIUB",
      "include_colab_link": true
    },
    "kernelspec": {
      "name": "python3",
      "display_name": "Python 3"
    },
    "language_info": {
      "name": "python"
    }
  },
  "cells": [
    {
      "cell_type": "markdown",
      "metadata": {
        "id": "view-in-github",
        "colab_type": "text"
      },
      "source": [
        "<a href=\"https://colab.research.google.com/github/setyo-dwi-pratama/PROJECTPAMAMF/blob/main/matchfactor1.ipynb\" target=\"_parent\"><img src=\"https://colab.research.google.com/assets/colab-badge.svg\" alt=\"Open In Colab\"/></a>"
      ]
    },
    {
      "cell_type": "code",
      "source": [
        "print(20 * \"=\")\n",
        "print(\"MATCH FACTOR\")\n",
        "print(20 * \"=\")\n",
        "print(\"Match Factor merupakan kesesuaian antara unit Loading dengan unit Hauling pada Operasional Penambangan. Tujuannya adalah untuk menentukan Kombinasi alat kerja yang optimal serta memastikan operasional berjalan dengan Produktif dan Aman\")\n",
        "print(\"Seringkali terjadi di lapangan, Jumlah unit Hauling yang sudah tersetting namun masih terjadi waktu tunggu atau antrian pada unit hauling, sehingga harus terus di monitor secara periodik 2-3 jam untuk meminimalkan waktu tunggu ataupun antrian\")\n",
        "print(\"Pada kesempatan ini, diberikan parameter untuk memotiring secara periodik di lapangan secara langsung, dengan Settingan unit Loading dapat di sesuaikan sesuai EGI sebagai berikut, PC850, PC1250SP8, PC1250SP11R, PC2000SP8, PC200011R. Sedangankan untuk unit Hauling hanya untuk EGI HD785\")\n",
        "\n",
        "\n",
        "# Parameter MF\n",
        "JumlahHD = float(input(\"Masukkan Jumlah HD785 (Jumlah): \"))\n",
        "Spoting = float(input(\"Masukkan Waktu Spotting Time (Detik): \"))\n",
        "CTPC = float(input(\"Masukkan Waktu Cycle Time PC (Detik): \"))\n",
        "Passing = float(input(\"Masukkan Jumlah Passing PC (Jumlah): \"))\n",
        "Speed = float(input(\"Masukkan Speed HD (KM/Jam): \"))\n",
        "Jarak = float(input(\"Masukkan Jarak Front ke Disposal (KM): \"))\n",
        "LST = float(input(\"Masukkan Waktu Loaded Stop Time (Menit): \"))\n",
        "EST = float(input(\"Masukkan Waktu Empty Stop Time (Menit): \"))\n",
        "\n",
        "# Validasi kecepatan tidak boleh nol\n",
        "while Speed <= 0:\n",
        "    print(\"Speed HD Tidak Boleh Null!\")\n",
        "    Speed = float(input(\"Masukkan Speed HD (KM/Jam): \"))\n",
        "\n",
        "# Validasi jarak tidak boleh nol\n",
        "while Jarak <= 0:\n",
        "    print(\"Jarak Tidak Boleh Null!\")\n",
        "    Jarak = float(input(\"Masukkan Jarak Front ke Disposal (KM): \"))\n",
        "\n",
        "# Konversi Parameter\n",
        "Spoting1 = Spoting / 60\n",
        "LoadingTime = (CTPC * Passing) / 60\n",
        "WaktuCycle = (Jarak / Speed) * 60\n",
        "WaktuCycleTotal = WaktuCycle * 2\n",
        "\n",
        "# Formula MF\n",
        "hasil = (JumlahHD * (LoadingTime + Spoting1)) / (Spoting1 + LoadingTime + WaktuCycleTotal + LST + EST)\n",
        "print(f\"Hasil Match Factor adalah {hasil:.2f}\")\n",
        "\n",
        "# Memeriksa Hasil MF\n",
        "if 0.95 <= hasil <= 1:\n",
        "    print(\"MF Good, Pertahankan Parameter! :)\")\n",
        "elif hasil < 0.95:\n",
        "    # Menentukan jumlah HD yang dibutuhkan untuk mencapai hasil minimum 0.96\n",
        "    jumlah_hd_rekomendasi = (0.96 * (Spoting1 + LoadingTime + WaktuCycleTotal + LST + EST)) / (LoadingTime + Spoting1)\n",
        "    print(f\"Rekomendasi: Tingkatkan Jumlah HD785 menjadi minimal {jumlah_hd_rekomendasi:.2f} HD\")\n",
        "else:\n",
        "    # Menentukan kecepatan HD yang dibutuhkan untuk mencapai hasil maksimum 1\n",
        "    speed_rekomendasi = (JumlahHD * (LoadingTime + Spoting1)) / ((Spoting1 + LoadingTime + WaktuCycleTotal + LST + EST) - JumlahHD)\n",
        "    print(f\"Rekomendasi: Kurangi Kecepatan HD785 menjadi maksimal {speed_rekomendasi:.2f} KM/Jam\")\n"
      ],
      "metadata": {
        "colab": {
          "base_uri": "https://localhost:8080/"
        },
        "id": "w3zTcDiTeWd0",
        "outputId": "fd0ecd80-ad4c-4979-b5d5-8e0d4d45ad47"
      },
      "execution_count": 3,
      "outputs": [
        {
          "output_type": "stream",
          "name": "stdout",
          "text": [
            "====================\n",
            "MATCH FACTOR\n",
            "====================\n",
            "Match Factor merupakan kesesuaian antara unit Loading dengan unit Hauling pada Operasional Penambangan. Tujuannya adalah untuk menentukan Kombinasi alat kerja yang optimal serta memastikan operasional berjalan dengan Produktif dan Aman\n",
            "Seringkali terjadi di lapangan, Jumlah unit Hauling yang sudah tersetting namun masih terjadi waktu tunggu atau antrian pada unit hauling, sehingga harus terus di monitor secara periodik 2-3 jam untuk meminimalkan waktu tunggu ataupun antrian\n",
            "Pada kesempatan ini, diberikan parameter untuk memotiring secara periodik di lapangan secara langsung, dengan Settingan unit Loading dapat di sesuaikan sesuai EGI sebagai berikut, PC850, PC1250SP8, PC1250SP11R, PC2000SP8, PC200011R. Sedangankan untuk unit Hauling hanya untuk EGI HD785\n",
            "Masukkan Jumlah HD785 (Jumlah): 5\n",
            "Masukkan Waktu Spotting Time (Detik): 15\n",
            "Masukkan Waktu Cycle Time PC (Detik): 22\n",
            "Masukkan Jumlah Passing PC (Jumlah): 9\n",
            "Masukkan Speed HD (KM/Jam): 25\n",
            "Masukkan Jarak Front ke Disposal (KM): 2\n",
            "Masukkan Waktu Loaded Stop Time (Menit): 1\n",
            "Masukkan Waktu Empty Stop Time (Menit): 1\n",
            "Hasil Match Factor adalah 1.17\n",
            "Rekomendasi: Kurangi Kecepatan HD785 menjadi maksimal 1.75 KM/Jam\n"
          ]
        }
      ]
    }
  ]
}