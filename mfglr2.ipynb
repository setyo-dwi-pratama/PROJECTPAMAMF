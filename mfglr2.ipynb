{
  "nbformat": 4,
  "nbformat_minor": 0,
  "metadata": {
    "colab": {
      "provenance": [],
      "gpuType": "T4",
      "authorship_tag": "ABX9TyPSJpKGfHkL4lt8Ekcns//c",
      "include_colab_link": true
    },
    "kernelspec": {
      "name": "python3",
      "display_name": "Python 3"
    },
    "language_info": {
      "name": "python"
    },
    "accelerator": "GPU"
  },
  "cells": [
    {
      "cell_type": "markdown",
      "metadata": {
        "id": "view-in-github",
        "colab_type": "text"
      },
      "source": [
        "<a href=\"https://colab.research.google.com/github/setyo-dwi-pratama/PROJECTPAMAMF/blob/main/mfglr2.ipynb\" target=\"_parent\"><img src=\"https://colab.research.google.com/assets/colab-badge.svg\" alt=\"Open In Colab\"/></a>"
      ]
    },
    {
      "cell_type": "code",
      "execution_count": 8,
      "metadata": {
        "colab": {
          "base_uri": "https://localhost:8080/"
        },
        "id": "eNKTNSvEYWta",
        "outputId": "49a78008-894f-4619-8e2e-572f87a8133a"
      },
      "outputs": [
        {
          "output_type": "stream",
          "name": "stdout",
          "text": [
            "MATCH FACTOR\n",
            "---\n",
            "Match Factor merupakan kesesuaian antara unit Loading dengan unit Hauling pada Operasional Penambangan. Tujuannya adalah untuk menentukan Kombinasi alat kerja yang optimal serta memastikan operasional berjalan dengan Produktif dan Aman\n",
            "Seringkali terjadi bahwa Jumlah unit Hauling yang sudah tersetting, namun dilapangan masih terjadi waktu tunggu pada unit loading ataupun antrian pada unit hauling, sehingga diperlukan untuk terus dicontrol maupun dimonitor secara periodik 2-3 jam, hal ini bertujuan untuk meminimalkan waktu tunggu ataupun antrian\n",
            "Dengan adanya Program ValCont ini, diharapkan dapat membantu semua pihak untuk turut serta melakukan Validasi dan Controling secara bersama demi terapainya target produksi\n",
            "---\n",
            "Diberikan parameter untuk memonitoring secara periodik di lapangan secara langsung, dengan Settingan unit Loading dapat di sesuaikan dengan EGI sebagai berikut : PC850, PC1250SP8, PC1250SP11R, PC2000SP8, PC200011R\n",
            "Sedangankan untuk unit Hauling hanya untuk EGI : HD785\n",
            "Masukan Parameter\n",
            "Masukkan Jumlah HD785 (Jumlah): 4\n",
            "Masukkan Waktu Cycle Time PC (Detik): 25\n",
            "Masukkan Jumlah Passing PC (Jumlah): 9\n",
            "Masukkan Cycle Time HD (Dari keluar front sampai memasuki front kembali)(Menit): 15\n",
            "Masukkan Jarak Front ke Disposal (KM): 2\n",
            "Hasil Match Factor adalah 1.00\n",
            "MF Good, Pertahankan Parameter! :)\n",
            "Productivity Maksimal Excavator berdasarkan Parameter diperoleh 672.00 Bcm/Jam\n",
            "Productivity Maksimal HD785 berdasarkan Parameter diperoleh 168.00 Bcm/Jam\n",
            "Speed rata-rata berdasarkan Parameter diperoleh 20.00 Km/Jam\n"
          ]
        }
      ],
      "source": [
        "#import streamlit as st\n",
        "\n",
        "\n",
        "print(\"VALCONT PROGRAM\")\n",
        "print(\"PAMA BEKB\")\n",
        "print(\"---\")\n",
        "print(\"Match Factor merupakan kesesuaian antara unit Loading dengan unit Hauling pada Operasional Penambangan. Tujuannya adalah untuk menentukan Kombinasi alat kerja yang optimal serta memastikan operasional berjalan dengan Produktif dan Aman\")\n",
        "print(\"Seringkali terjadi bahwa Jumlah unit Hauling yang sudah tersetting, namun dilapangan masih terjadi waktu tunggu pada unit loading ataupun antrian pada unit hauling, sehingga diperlukan untuk terus dicontrol maupun dimonitor secara periodik 2-3 jam, hal ini bertujuan untuk meminimalkan waktu tunggu ataupun antrian\")\n",
        "print(\"Dengan adanya Program ValCont ini, diharapkan dapat membantu semua pihak untuk turut serta melakukan Validasi dan Controling secara bersama demi terapainya target produksi\")\n",
        "print(\"---\")\n",
        "\n",
        "print(\"Diberikan parameter untuk memonitoring secara periodik di lapangan secara langsung, dengan Settingan unit Loading dapat di sesuaikan dengan EGI sebagai berikut : PC850, PC1250SP8, PC1250SP11R, PC2000SP8, PC200011R\")\n",
        "print(\"Sedangankan untuk unit Hauling hanya untuk EGI : HD785\")\n",
        "print(\"Masukan Parameter\")\n",
        "\n",
        "# Parameter MF\n",
        "JumlahHD = float(input(\"Masukkan Jumlah HD785 (Jumlah): \"))\n",
        "CTPC = float(input(\"Masukkan Waktu Cycle Time PC (Detik): \"))\n",
        "Passing = float(input(\"Masukkan Jumlah Passing PC (Jumlah): \"))\n",
        "CTHD = float(input(\"Masukkan Cycle Time HD (Dari keluar front sampai memasuki front kembali)(Menit): \"))\n",
        "Jarak = float(input(\"Masukkan Jarak Front ke Disposal (KM): \"))\n",
        "\n",
        "# Validasi jarak tidak boleh nol\n",
        "if Jarak <= 0:\n",
        "  print(\"Jarak tidak boleh nol!\")\n",
        "  Jarak = float(input(\"Masukkan Jarak Front ke Disposal (KM): \"))\n",
        "\n",
        "# Konversi Parameter\n",
        "LoadingTime = (CTPC * Passing) / 60\n",
        "\n",
        "# Formula MF\n",
        "hasil = (JumlahHD * LoadingTime) / (CTHD)\n",
        "\n",
        "print(f\"Hasil Match Factor adalah {hasil:.2f}\")\n",
        "\n",
        "# Memeriksa Hasil MF\n",
        "if 0.95 <= hasil <= 1:\n",
        "    print(\"MF Good, Pertahankan Parameter! :)\")\n",
        "elif hasil < 0.95:\n",
        "    # Menentukan jumlah HD yang dibutuhkan untuk mencapai hasil minimum 0.96\n",
        "    jumlah_hd_rekomendasi = (0.96 * CTHD) / (LoadingTime)\n",
        "    print(f\"Rekomendasi: Tingkatkan Jumlah HD785 menjadi minimal {jumlah_hd_rekomendasi:.2f} HD\")\n",
        "else:\n",
        "    # Menentukan kecepatan HD yang dibutuhkan untuk mencapai hasil maksimum 1\n",
        "    jumlah_hd2_rekomendasi = (JumlahHD * LoadingTime) / (CTHD - JumlahHD)\n",
        "    print(f\"Rekomendasi: Kurangi Jumlah HD785 menjadi maksimal {jumlah_hd2_rekomendasi:.2f} HD\")\n",
        "\n",
        "#Maximal Productivity Excavator\n",
        "HD785 = 42\n",
        "PdtyJam = 60\n",
        "RitPC = round((PdtyJam/LoadingTime),0)\n",
        "MaxRitasiPC = RitPC*HD785\n",
        "print(f\"Productivity Maksimal Excavator berdasarkan Parameter diperoleh {MaxRitasiPC:.2f} Bcm/Jam\")\n",
        "\n",
        "#Maximal Productivity HD\n",
        "MaxRitasiHD = MaxRitasiPC/JumlahHD\n",
        "print(f\"Productivity Maksimal HD785 berdasarkan Parameter diperoleh {MaxRitasiHD:.2f} Bcm/Jam\")\n",
        "\n",
        "#Mencari Speed Rata-Rata dari Parameter\n",
        "Cthd1 = CTHD - 3\n",
        "CTHDJAM = Cthd1/60\n",
        "speed = (Jarak+Jarak)/(CTHDJAM)\n",
        "print(f\"Speed rata-rata berdasarkan Parameter diperoleh {speed:.2f} Km/Jam\")\n",
        ""
      ]
    }
  ]
}