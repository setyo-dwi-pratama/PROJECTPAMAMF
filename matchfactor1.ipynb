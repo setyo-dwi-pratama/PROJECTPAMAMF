{
  "nbformat": 4,
  "nbformat_minor": 0,
  "metadata": {
    "colab": {
      "provenance": [],
      "authorship_tag": "ABX9TyOXk+Q12DmYN+iXfnm6qDCR",
      "include_colab_link": true
    },
    "kernelspec": {
      "name": "python3",
      "display_name": "Python 3"
    },
    "language_info": {
      "name": "python"
    }
  },
  "cells": [
    {
      "cell_type": "markdown",
      "metadata": {
        "id": "view-in-github",
        "colab_type": "text"
      },
      "source": [
        "<a href=\"https://colab.research.google.com/github/setyo-dwi-pratama/PROJECTPAMAMF/blob/main/matchfactor1.ipynb\" target=\"_parent\"><img src=\"https://colab.research.google.com/assets/colab-badge.svg\" alt=\"Open In Colab\"/></a>"
      ]
    },
    {
      "cell_type": "code",
      "execution_count": null,
      "metadata": {
        "id": "R5YPk4avnd57"
      },
      "outputs": [],
      "source": [
        "import streamlit as st\n",
        "\n",
        "\n",
        "st.title(\"MATCH FACTOR\")\n",
        "st.markdown(\"---\")\n",
        "st.markdown(\"Match Factor merupakan kesesuaian antara unit Loading dengan unit Hauling pada Operasional Penambangan. Tujuannya adalah untuk menentukan Kombinasi alat kerja yang optimal serta memastikan operasional berjalan dengan Produktif dan Aman\")\n",
        "st.markdown(\"Seringkali terjadi di lapangan, Jumlah unit Hauling yang sudah tersetting namun masih terjadi waktu tunggu atau antrian pada unit hauling, sehingga harus terus di monitor secara periodik 2-3 jam untuk meminimalkan waktu tunggu ataupun antrian\")\n",
        "st.markdown(\"Pada kesempatan ini, diberikan parameter untuk memotiring secara periodik di lapangan secara langsung, dengan Settingan unit Loading dapat di sesuaikan sesuai EGI sebagai berikut, PC850, PC1250SP8, PC1250SP11R, PC2000SP8, PC200011R. Sedangankan untuk unit Hauling hanya untuk EGI HD785\")\n",
        "\n",
        "\n",
        "# Parameter MF\n",
        "JumlahHD = st.number_input(\"Masukkan Jumlah HD785 (Jumlah):\")\n",
        "Spoting = st.number_input(\"Masukkan Waktu Spotting Time (Detik):\")\n",
        "CTPC = st.number_input(\"Masukkan Waktu Cycle Time PC (Detik):\")\n",
        "Passing = st.number_input(\"Masukkan Jumlah Passing PC (Jumlah):\")\n",
        "Speed = st.number_input(\"Masukkan Speed HD (KM/Jam):\")\n",
        "Jarak = st.number_input(\"Masukkan Jarak Front ke Disposal (KM):\")\n",
        "LST = st.number_input(\"Masukkan Waktu Loaded Stop Time (Menit):\")\n",
        "EST = st.number_input(\"Masukkan Waktu Empty Stop Time (Menit):\")\n",
        "\n",
        "# Validasi kecepatan tidak boleh nol\n",
        "if Speed <= 0:\n",
        "    st.error(\"Kecepatan HD tidak boleh nol!\")\n",
        "    Speed = st.number_input(\"Masukkan Kecepatan HD (KM/Jam): \")\n",
        "\n",
        "# Validasi jarak tidak boleh nol\n",
        "if Jarak <= 0:\n",
        "    st.error(\"Jarak tidak boleh nol!\")\n",
        "    Jarak = st.number_input(\"Masukkan Jarak Front ke Disposal (KM): \")\n",
        "\n",
        "# Konversi Parameter\n",
        "Spoting1 = Spoting / 60\n",
        "LoadingTime = (CTPC * Passing) / 60\n",
        "WaktuCycle = (Jarak / Speed) * 60\n",
        "WaktuCycleTotal = WaktuCycle * 2\n",
        "\n",
        "# Formula MF\n",
        "hasil = (JumlahHD * (LoadingTime + Spoting1)) / (Spoting1 + LoadingTime + WaktuCycleTotal + LST + EST)\n",
        "\n",
        "st.markdown(f\"Hasil Match Factor adalah {hasil:.2f}\")\n",
        "\n",
        "# Memeriksa Hasil MF\n",
        "if 0.95 <= hasil <= 1:\n",
        "    st.success(\"MF Good, Pertahankan Parameter! :)\")\n",
        "elif hasil < 0.95:\n",
        "    # Menentukan jumlah HD yang dibutuhkan untuk mencapai hasil minimum 0.96\n",
        "    jumlah_hd_rekomendasi = (0.96 * (Spoting1 + LoadingTime + WaktuCycleTotal + LST + EST)) / (LoadingTime + Spoting1)\n",
        "    st.warning(f\"Rekomendasi: Tingkatkan Jumlah HD785 menjadi minimal {jumlah_hd_rekomendasi:.2f} HD\")\n",
        "else:\n",
        "    # Menentukan kecepatan HD yang dibutuhkan untuk mencapai hasil maksimum 1\n",
        "    speed_rekomendasi = (JumlahHD * (LoadingTime + Spoting1)) / ((Spoting1 + LoadingTime + WaktuCycleTotal + LST + EST) - JumlahHD)\n",
        "    st.warning(f\"Rekomendasi: Kurangi Kecepatan HD785 menjadi maksimal {speed_rekomendasi:.2f} KM/Jam\")"
      ]
    }
  ]
}