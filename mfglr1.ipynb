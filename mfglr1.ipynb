{
  "nbformat": 4,
  "nbformat_minor": 0,
  "metadata": {
    "colab": {
      "provenance": [],
      "gpuType": "T4",
      "authorship_tag": "ABX9TyO5Jrpg87xV9zqPwzFaMzAn",
      "include_colab_link": true
    },
    "kernelspec": {
      "name": "python3",
      "display_name": "Python 3"
    },
    "language_info": {
      "name": "python"
    },
    "accelerator": "GPU"
  },
  "cells": [
    {
      "cell_type": "markdown",
      "metadata": {
        "id": "view-in-github",
        "colab_type": "text"
      },
      "source": [
        "<a href=\"https://colab.research.google.com/github/setyo-dwi-pratama/PROJECTPAMAMF/blob/main/mfglr1.ipynb\" target=\"_parent\"><img src=\"https://colab.research.google.com/assets/colab-badge.svg\" alt=\"Open In Colab\"/></a>"
      ]
    },
    {
      "cell_type": "code",
      "execution_count": 4,
      "metadata": {
        "colab": {
          "base_uri": "https://localhost:8080/"
        },
        "id": "OPi8QvcChDOx",
        "outputId": "1648d19a-8208-4111-8b70-a4e4569baa3b"
      },
      "outputs": [
        {
          "output_type": "stream",
          "name": "stdout",
          "text": [
            "MATCH FACTOR\n",
            "---\n",
            "Match Factor merupakan kesesuaian antara unit Loading dengan unit Hauling pada Operasional Penambangan. Tujuannya adalah untuk menentukan Kombinasi alat kerja yang optimal serta memastikan operasional berjalan dengan Produktif dan Aman\n",
            "Seringkali terjadi di lapangan, Jumlah unit Hauling yang sudah tersetting namun masih terjadi waktu tunggu atau antrian pada unit hauling, sehingga harus terus di monitor secara periodik 2-3 jam untuk meminimalkan waktu tunggu ataupun antrian\n",
            "Pada kesempatan ini, diberikan parameter untuk memonitoring secara periodik di lapangan secara langsung, dengan Settingan unit Loading dapat di sesuaikan sesuai EGI sebagai berikut, PC850, PC1250SP8, PC1250SP11R, PC2000SP8, PC200011R. Sedangankan untuk unit Hauling hanya untuk EGI HD785\n",
            "Masukkan Jumlah HD785 (Jumlah): 3\n",
            "Masukkan Waktu Spotting Time (Detik): 10\n",
            "Masukkan Waktu Cycle Time PC (Detik): 42\n",
            "Masukkan Jumlah Passing PC (Jumlah): 5\n",
            "Masukkan Cycle Time HD (Dari keluar front sampai memasuki front kembali)(Menit): 10.5\n",
            "Masukkan Jarak Front ke Disposal (KM): 1\n",
            "Hasil Match Factor adalah 0.78\n",
            "Rekomendasi: Tingkatkan Jumlah HD785 menjadi minimal 3.71 HD\n",
            "Speed rata-rata diperoleh 22.86\n"
          ]
        }
      ],
      "source": [
        "#import streamlit as st\n",
        "\n",
        "\n",
        "print(\"MATCH FACTOR\")\n",
        "print(\"---\")\n",
        "print(\"Match Factor merupakan kesesuaian antara unit Loading dengan unit Hauling pada Operasional Penambangan. Tujuannya adalah untuk menentukan Kombinasi alat kerja yang optimal serta memastikan operasional berjalan dengan Produktif dan Aman\")\n",
        "print(\"Seringkali terjadi di lapangan, Jumlah unit Hauling yang sudah tersetting namun masih terjadi waktu tunggu atau antrian pada unit hauling, sehingga harus terus di monitor secara periodik 2-3 jam untuk meminimalkan waktu tunggu ataupun antrian\")\n",
        "print(\"Pada kesempatan ini, diberikan parameter untuk memonitoring secara periodik di lapangan secara langsung, dengan Settingan unit Loading dapat di sesuaikan sesuai EGI sebagai berikut, PC850, PC1250SP8, PC1250SP11R, PC2000SP8, PC200011R. Sedangankan untuk unit Hauling hanya untuk EGI HD785\")\n",
        "\n",
        "\n",
        "# Parameter MF\n",
        "JumlahHD = float(input(\"Masukkan Jumlah HD785 (Jumlah): \"))\n",
        "Spoting = float(input(\"Masukkan Waktu Spotting Time (Detik): \"))\n",
        "CTPC = float(input(\"Masukkan Waktu Cycle Time PC (Detik): \"))\n",
        "Passing = float(input(\"Masukkan Jumlah Passing PC (Jumlah): \"))\n",
        "CTHD = float(input(\"Masukkan Cycle Time HD (Dari keluar front sampai memasuki front kembali)(Menit): \"))\n",
        "Jarak = float(input(\"Masukkan Jarak Front ke Disposal (KM): \"))\n",
        "\n",
        "# Validasi jarak tidak boleh nol\n",
        "if Jarak <= 0:\n",
        "  print(\"Jarak tidak boleh nol!\")\n",
        "  Jarak = float(input(\"Masukkan Jarak Front ke Disposal (KM): \"))\n",
        "\n",
        "# Konversi Parameter\n",
        "Spoting1 = Spoting / 60\n",
        "LoadingTime = (CTPC * Passing) / 60\n",
        "WaktuCycle = (CTHD+Spoting1+LoadingTime)\n",
        "\n",
        "# Formula MF\n",
        "hasil = (JumlahHD * (LoadingTime + Spoting1)) / (WaktuCycle)\n",
        "\n",
        "print(f\"Hasil Match Factor adalah {hasil:.2f}\")\n",
        "\n",
        "# Memeriksa Hasil MF\n",
        "if 0.95 <= hasil <= 1:\n",
        "    print(\"MF Good, Pertahankan Parameter! :)\")\n",
        "elif hasil < 0.95:\n",
        "    # Menentukan jumlah HD yang dibutuhkan untuk mencapai hasil minimum 0.96\n",
        "    jumlah_hd_rekomendasi = (0.96 * WaktuCycle) / (LoadingTime + Spoting1)\n",
        "    print(f\"Rekomendasi: Tingkatkan Jumlah HD785 menjadi minimal {jumlah_hd_rekomendasi:.2f} HD\")\n",
        "else:\n",
        "    # Menentukan kecepatan HD yang dibutuhkan untuk mencapai hasil maksimum 1\n",
        "    speed_rekomendasi = (JumlahHD * (LoadingTime + Spoting1)) / (WaktuCycle - JumlahHD)\n",
        "    print(f\"Rekomendasi: Kurangi Kecepatan HD785 menjadi maksimal {speed_rekomendasi:.2f} KM/Jam\")\n",
        "\n",
        "CthdJam = CTHD/60\n",
        "speed = (Jarak+Jarak)/(CthdJam/2)\n",
        "print(f\"Speed rata-rata diperoleh {speed:.2f}\")"
      ]
    }
  ]
}