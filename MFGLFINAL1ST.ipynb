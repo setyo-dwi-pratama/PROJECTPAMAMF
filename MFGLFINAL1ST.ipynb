{
  "nbformat": 4,
  "nbformat_minor": 0,
  "metadata": {
    "colab": {
      "provenance": [],
      "authorship_tag": "ABX9TyOzQ4ypPfgiQsJnpxDKZYbW",
      "include_colab_link": true
    },
    "kernelspec": {
      "name": "python3",
      "display_name": "Python 3"
    },
    "language_info": {
      "name": "python"
    }
  },
  "cells": [
    {
      "cell_type": "markdown",
      "metadata": {
        "id": "view-in-github",
        "colab_type": "text"
      },
      "source": [
        "<a href=\"https://colab.research.google.com/github/setyo-dwi-pratama/PROJECTPAMAMF/blob/main/MFGLFINAL1ST.ipynb\" target=\"_parent\"><img src=\"https://colab.research.google.com/assets/colab-badge.svg\" alt=\"Open In Colab\"/></a>"
      ]
    },
    {
      "cell_type": "code",
      "execution_count": null,
      "metadata": {
        "id": "psf59fzEdEaG"
      },
      "outputs": [],
      "source": [
        "import streamlit as st\n",
        "\n",
        "st.title(\"VALCONT PROGRAM\")\n",
        "st.write(\"PAMA BEKB\")\n",
        "st.write(\"---\")\n",
        "\n",
        "# Menampilkan teks\n",
        "st.write(\"Valcont (Validation and Controlling) Program atau yang biasa kita kenal dengan Match Factor merupakan kesesuaian antara unit Loading dengan unit Hauling pada Operasional Penambangan. Tujuannya adalah untuk menentukan Kombinasi alat kerja yang optimal serta memastikan operasional berjalan dengan Produktif dan Aman\")\n",
        "st.write(\"Seringkali terjadi bahwa Jumlah unit Hauling yang sudah tersetting, namun dilapangan masih terdapat waktu tunggu pada unit loading ataupun antrian pada unit hauling, sehingga diperlukan untuk terus dicontrol maupun dimonitor secara periodik 2-3 jam, maka dengan adanya Valcont Program diharapkan dapat meminimalkan waktu tunggu ataupun antrian pada Operasional Tambang Site BEKB\")\n",
        "st.write(\"Dengan adanya Program ValCont ini juga, diharapkan dapat membantu semua pihak untuk turut serta melakukan Validasi dan Controling secara bersama demi terapainya target produksi\")\n",
        "st.write(\"---\")\n",
        "\n",
        "# Menampilkan teks\n",
        "st.write(\"Diberikan parameter untuk memonitoring secara periodik di lapangan secara langsung, dengan Settingan unit Loading dapat di sesuaikan dengan EGI sebagai berikut : PC850, PC1250SP8, PC1250SP11R, PC2000SP8, PC200011R\")\n",
        "st.write(\"Sedangankan untuk unit Hauling hanya untuk EGI : HD785\")\n",
        "st.write(\"---\")\n",
        "\n",
        "# Menampilkan input form dan mendapatkan parameter dari pengguna\n",
        "st.write(\"Masukan Parameter\")\n",
        "jumlah_hd = st.number_input(\"Jumlah HD785 (Jumlah)\", min_value=0, step=1)\n",
        "ct_pc = st.number_input(\"Waktu Cycle Time PC (Detik)\", min_value=0.0, step=1.0)\n",
        "passing = st.number_input(\"Jumlah Passing PC (Jumlah)\", min_value=0, step=1)\n",
        "ct_hd = st.number_input(\"Cycle Time HD (Dari keluar front sampai memasuki front kembali)(Menit)\", min_value=0.0, step=1.0)\n",
        "jarak = st.number_input(\"Jarak Front ke Disposal (KM)\", min_value=0.0, step=1.0)\n",
        "\n",
        "# Validasi jarak tidak boleh nol\n",
        "if jarak <= 0:\n",
        "    st.warning(\"Jarak tidak boleh nol!\")\n",
        "    jarak = st.number_input(\"Masukkan Jarak Front ke Disposal (KM)\", min_value=0.0, step=1.0)\n",
        "\n",
        "# Konversi Parameter\n",
        "loading_time = (ct_pc * passing) / 60\n",
        "\n",
        "# Formula MF\n",
        "hasil = (jumlah_hd * loading_time) / (ct_hd)\n",
        "\n",
        "st.write(f\"Hasil Match Factor adalah {hasil:.2f}\")\n",
        "\n",
        "# Memeriksa Hasil MF\n",
        "if 0.95 <= hasil <= 1:\n",
        "    st.success(\"MF Good, Pertahankan Parameter! :)\")\n",
        "elif hasil < 0.95:\n",
        "    # Menentukan jumlah HD yang dibutuhkan untuk mencapai hasil minimum 0.96\n",
        "    jumlah_hd_rekomendasi = (0.96 * ct_hd) / (loading_time)\n",
        "    st.warning(f\"Rekomendasi: Tingkatkan Jumlah HD785 menjadi minimal {jumlah_hd_rekomendasi:.2f} HD\")\n",
        "else:\n",
        "    # Menentukan jumlah HD yang dibutuhkan untuk mencapai hasil maksimum 1\n",
        "    jumlah_hd2_rekomendasi = (1.00 * ct_hd) / (loading_time)\n",
        "    st.warning(f\"Rekomendasi: Kurangi Jumlah HD785 menjadi maksimal {jumlah_hd2_rekomendasi:.2f} HD\")\n",
        "\n",
        "# Maximal Productivity Excavator\n",
        "hd785 = 42\n",
        "pdty_jam = 60\n",
        "rit_pc = round((pdty_jam/loading_time), 0)\n",
        "max_ritasi_pc = rit_pc * hd785\n",
        "st.write(f\"Productivity Maksimal Excavator berdasarkan Parameter diperoleh {max_ritasi_pc:.2f} Bcm/Jam\")\n",
        "\n",
        "# Maximal Productivity HD\n",
        "max_ritasi_hd = max_ritasi_pc / jumlah_hd\n",
        "st.write(f\"Productivity Maksimal HD785 berdasarkan Parameter diperoleh {max_ritasi_hd:.2f} Bcm/Jam\")\n",
        "\n",
        "# Mencari Speed Rata-Rata dari Parameter\n",
        "ct_hd1 = ct_hd - 3\n",
        "ct_hd_jam = ct_hd1 / 60\n",
        "speed = (jarak + jarak) / ct_hd_jam\n",
        "st.write(f\"Speed rata-rata berdasarkan Parameter diperoleh {speed:.2f} Km/Jam\")\n"
      ]
    }
  ]
}