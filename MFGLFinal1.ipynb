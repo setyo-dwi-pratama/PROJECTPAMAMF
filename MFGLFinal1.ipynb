{
  "nbformat": 4,
  "nbformat_minor": 0,
  "metadata": {
    "colab": {
      "provenance": [],
      "gpuType": "T4",
      "authorship_tag": "ABX9TyOvoNR0XSe0Fac1+a2GAzxE",
      "include_colab_link": true
    },
    "kernelspec": {
      "name": "python3",
      "display_name": "Python 3"
    },
    "language_info": {
      "name": "python"
    },
    "accelerator": "GPU"
  },
  "cells": [
    {
      "cell_type": "markdown",
      "metadata": {
        "id": "view-in-github",
        "colab_type": "text"
      },
      "source": [
        "<a href=\"https://colab.research.google.com/github/setyo-dwi-pratama/PROJECTPAMAMF/blob/main/MFGLFinal1.ipynb\" target=\"_parent\"><img src=\"https://colab.research.google.com/assets/colab-badge.svg\" alt=\"Open In Colab\"/></a>"
      ]
    },
    {
      "cell_type": "code",
      "execution_count": 3,
      "metadata": {
        "colab": {
          "base_uri": "https://localhost:8080/"
        },
        "id": "6isc7-a5asMW",
        "outputId": "01c36e72-5077-450a-d690-b6009f44cc1f"
      },
      "outputs": [
        {
          "output_type": "stream",
          "name": "stdout",
          "text": [
            "VALCONT PROGRAM\n",
            "PAMA BEKB\n",
            "---\n",
            "Valcont (Validation and Controlling) Program atau yang biasa kita kenal dengan Match Factor merupakan kesesuaian antara unit Loading dengan unit Hauling pada Operasional Penambangan. Tujuannya adalah untuk menentukan Kombinasi alat kerja yang optimal serta memastikan operasional berjalan dengan Produktif dan Aman\n",
            "Seringkali terjadi bahwa Jumlah unit Hauling yang sudah tersetting, namun dilapangan masih terdapat waktu tunggu pada unit loading ataupun antrian pada unit hauling, sehingga diperlukan untuk terus dicontrol maupun dimonitor secara periodik 2-3 jam, maka dengan adanya Valcont Program diharapkan dapat meminimalkan waktu tunggu ataupun antrian pada Operasional Tambang Site BEKB\n",
            "Dengan adanya Program ValCont ini juga, diharapkan dapat membantu semua pihak untuk turut serta melakukan Validasi dan Controling secara bersama demi terapainya target produksi\n",
            "---\n",
            "Diberikan parameter untuk memonitoring secara periodik di lapangan secara langsung, dengan Settingan unit Loading dapat di sesuaikan dengan EGI sebagai berikut : PC850, PC1250SP8, PC1250SP11R, PC2000SP8, PC200011R\n",
            "Sedangankan untuk unit Hauling hanya untuk EGI : HD785\n",
            "---\n",
            "Masukan Parameter\n",
            "Masukkan Jumlah HD785 (Jumlah): 3\n",
            "Masukkan Waktu Cycle Time PC (Detik): 26\n",
            "Masukkan Jumlah Passing PC (Jumlah): 9\n",
            "Masukkan Cycle Time HD (Dari keluar front sampai memasuki front kembali)(Menit): 11\n",
            "Masukkan Jarak Front ke Disposal (KM): 2\n",
            "Hasil Match Factor adalah 1.06\n",
            "Rekomendasi: Kurangi Jumlah HD785 menjadi maksimal 2.82 HD\n",
            "Productivity Maksimal Excavator berdasarkan Parameter diperoleh 630.00 Bcm/Jam\n",
            "Productivity Maksimal HD785 berdasarkan Parameter diperoleh 210.00 Bcm/Jam\n",
            "Speed rata-rata berdasarkan Parameter diperoleh 30.00 Km/Jam\n"
          ]
        }
      ],
      "source": [
        "print(\"VALCONT PROGRAM\")\n",
        "print(\"PAMA BEKB\")\n",
        "print(\"---\")\n",
        "print(\"Valcont (Validation and Controlling) Program atau yang biasa kita kenal dengan Match Factor merupakan kesesuaian antara unit Loading dengan unit Hauling pada Operasional Penambangan. Tujuannya adalah untuk menentukan Kombinasi alat kerja yang optimal serta memastikan operasional berjalan dengan Produktif dan Aman\")\n",
        "print(\"Seringkali terjadi bahwa Jumlah unit Hauling yang sudah tersetting, namun dilapangan masih terdapat waktu tunggu pada unit loading ataupun antrian pada unit hauling, sehingga diperlukan untuk terus dicontrol maupun dimonitor secara periodik 2-3 jam, maka dengan adanya Valcont Program diharapkan dapat meminimalkan waktu tunggu ataupun antrian pada Operasional Tambang Site BEKB\")\n",
        "print(\"Dengan adanya Program ValCont ini juga, diharapkan dapat membantu semua pihak untuk turut serta melakukan Validasi dan Controling secara bersama demi terapainya target produksi\")\n",
        "print(\"---\")\n",
        "\n",
        "print(\"Diberikan parameter untuk memonitoring secara periodik di lapangan secara langsung, dengan Settingan unit Loading dapat di sesuaikan dengan EGI sebagai berikut : PC850, PC1250SP8, PC1250SP11R, PC2000SP8, PC200011R\")\n",
        "print(\"Sedangankan untuk unit Hauling hanya untuk EGI : HD785\")\n",
        "print(\"---\")\n",
        "print(\"Masukan Parameter\")\n",
        "\n",
        "# Parameter MF\n",
        "JumlahHD = float(input(\"Masukkan Jumlah HD785 (Jumlah): \"))\n",
        "CTPC = float(input(\"Masukkan Waktu Cycle Time PC (Detik): \"))\n",
        "Passing = float(input(\"Masukkan Jumlah Passing PC (Jumlah): \"))\n",
        "CTHD = float(input(\"Masukkan Cycle Time HD (Dari keluar front sampai memasuki front kembali)(Menit): \"))\n",
        "Jarak = float(input(\"Masukkan Jarak Front ke Disposal (KM): \"))\n",
        "\n",
        "# Validasi jarak tidak boleh nol\n",
        "if Jarak <= 0:\n",
        "  print(\"Jarak tidak boleh nol!\")\n",
        "  Jarak = float(input(\"Masukkan Jarak Front ke Disposal (KM): \"))\n",
        "\n",
        "# Konversi Parameter\n",
        "LoadingTime = (CTPC * Passing) / 60\n",
        "\n",
        "# Formula MF\n",
        "hasil = (JumlahHD * LoadingTime) / (CTHD)\n",
        "\n",
        "print(f\"Hasil Match Factor adalah {hasil:.2f}\")\n",
        "\n",
        "# Memeriksa Hasil MF\n",
        "if 0.95 <= hasil <= 1:\n",
        "    print(\"MF Good, Pertahankan Parameter! :)\")\n",
        "elif hasil < 0.95:\n",
        "    # Menentukan jumlah HD yang dibutuhkan untuk mencapai hasil minimum 0.96\n",
        "    jumlah_hd_rekomendasi = (0.96 * CTHD) / (LoadingTime)\n",
        "    print(f\"Rekomendasi: Tingkatkan Jumlah HD785 menjadi minimal {jumlah_hd_rekomendasi:.2f} HD\")\n",
        "else:\n",
        "    # Menentukan jumlah HD yang dibutuhkan untuk mencapai hasil maksimum 1\n",
        "    jumlah_hd2_rekomendasi = (1.00 * CTHD) / (LoadingTime)\n",
        "    print(f\"Rekomendasi: Kurangi Jumlah HD785 menjadi maksimal {jumlah_hd2_rekomendasi:.2f} HD\")\n",
        "\n",
        "#Maximal Productivity Excavator\n",
        "HD785 = 42\n",
        "PdtyJam = 60\n",
        "RitPC = round((PdtyJam/LoadingTime),0)\n",
        "MaxRitasiPC = RitPC*HD785\n",
        "print(f\"Productivity Maksimal Excavator berdasarkan Parameter diperoleh {MaxRitasiPC:.2f} Bcm/Jam\")\n",
        "\n",
        "#Maximal Productivity HD\n",
        "MaxRitasiHD = MaxRitasiPC/JumlahHD\n",
        "print(f\"Productivity Maksimal HD785 berdasarkan Parameter diperoleh {MaxRitasiHD:.2f} Bcm/Jam\")\n",
        "\n",
        "#Mencari Speed Rata-Rata dari Parameter\n",
        "Cthd1 = CTHD - 3\n",
        "CTHDJAM = Cthd1/60\n",
        "speed = (Jarak+Jarak)/(CTHDJAM)\n",
        "print(f\"Speed rata-rata berdasarkan Parameter diperoleh {speed:.2f} Km/Jam\")"
      ]
    }
  ]
}