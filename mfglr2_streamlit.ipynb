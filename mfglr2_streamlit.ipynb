{
  "nbformat": 4,
  "nbformat_minor": 0,
  "metadata": {
    "colab": {
      "provenance": [],
      "authorship_tag": "ABX9TyNrwFHFjI7g9+6pO78FeHa/",
      "include_colab_link": true
    },
    "kernelspec": {
      "name": "python3",
      "display_name": "Python 3"
    },
    "language_info": {
      "name": "python"
    }
  },
  "cells": [
    {
      "cell_type": "markdown",
      "metadata": {
        "id": "view-in-github",
        "colab_type": "text"
      },
      "source": [
        "<a href=\"https://colab.research.google.com/github/setyo-dwi-pratama/PROJECTPAMAMF/blob/main/mfglr2_streamlit.ipynb\" target=\"_parent\"><img src=\"https://colab.research.google.com/assets/colab-badge.svg\" alt=\"Open In Colab\"/></a>"
      ]
    },
    {
      "cell_type": "code",
      "execution_count": null,
      "metadata": {
        "id": "v3HqYCmbvQJG"
      },
      "outputs": [],
      "source": [
        "import streamlit as st\n",
        "\n",
        "st.title(\"VALCONT PROGRAM\")\n",
        "st.write(\"PAMA BEKB\")\n",
        "st.write(\"---\")\n",
        "st.write(\"Valcont (Validation and Controlling) Program atau yang biasa kita kenal dengan Match Factor merupakan kesesuaian antara unit Loading dengan unit Hauling pada Operasional Penambangan. Tujuannya adalah untuk menentukan Kombinasi alat kerja yang optimal serta memastikan operasional berjalan dengan Produktif dan Aman\")\n",
        "st.write(\"Seringkali terjadi bahwa Jumlah unit Hauling yang sudah tersetting, namun dilapangan masih terdapat waktu tunggu pada unit loading ataupun antrian pada unit hauling, sehingga diperlukan untuk terus dicontrol maupun dimonitor secara periodik 2-3 jam, maka dengan adanya Valcont Program diharapkan dapat meminimalkan waktu tunggu ataupun antrian pada Operasional Tambang Site BEKB\")\n",
        "st.write(\"Dengan adanya Program ValCont ini juga, diharapkan dapat membantu semua pihak untuk turut serta melakukan Validasi dan Controling secara bersama demi terapainya target produksi\")\n",
        "st.write(\"---\")\n",
        "st.write(\"Diberikan parameter untuk memonitoring secara periodik di lapangan secara langsung, dengan Settingan unit Loading dapat di sesuaikan dengan EGI sebagai berikut : PC850, PC1250SP8, PC1250SP11R, PC2000SP8, PC200011R\")\n",
        "st.write(\"Sedangankan untuk unit Hauling hanya untuk EGI : HD785\")\n",
        "st.write(\"---\")\n",
        "st.write(\"Masukan Parameter\")\n",
        "\n",
        "# Parameter MF\n",
        "JumlahHD = st.number_input(\"Masukkan Jumlah HD785 (Jumlah): \")\n",
        "CTPC = st.number_input(\"Masukkan Waktu Cycle Time PC (Detik): \")\n",
        "Passing = st.number_input(\"Masukkan Jumlah Passing PC (Jumlah): \")\n",
        "CTHD = st.number_input(\"Masukkan Cycle Time HD (Dari keluar front sampai memasuki front kembali)(Menit): \")\n",
        "Jarak = st.number_input(\"Masukkan Jarak Front ke Disposal (KM): \")\n",
        "\n",
        "# Validasi jarak tidak boleh nol\n",
        "if Jarak <= 0:\n",
        "  st.write(\"Jarak tidak boleh nol!\")\n",
        "  Jarak = st.number_input(\"Masukkan Jarak Front ke Disposal (KM): \")\n",
        "\n",
        "# Konversi Parameter\n",
        "LoadingTime = (CTPC * Passing) / 60\n",
        "\n",
        "# Formula MF\n",
        "hasil = (JumlahHD * LoadingTime) / (CTHD)\n",
        "\n",
        "st.write(f\"Hasil Match Factor adalah {hasil:.2f}\")\n",
        "\n",
        "# Memeriksa Hasil MF\n",
        "if 0.95 <= hasil <= 1:\n",
        "  st.write(\"MF Good, Pertahankan Parameter! :)\")\n",
        "elif hasil < 0.95:\n",
        "  # Menentukan jumlah HD yang dibutuhkan untuk mencapai hasil minimum 0.96\n",
        "  jumlah_hd_rekomendasi = (0.96 * CTHD) / (LoadingTime)\n",
        "  st.write(f\"Rekomendasi: Tingkatkan Jumlah HD785 menjadi minimal {jumlah_hd_rekomendasi:.2f} HD\")\n",
        "else:\n",
        "  # Menentukan jumlah HD yang dibutuhkan untuk mencapai hasil maksimum 1\n",
        "  jumlah_hd2_rekomendasi = (1.00 * CTHD) / (LoadingTime)\n",
        "  st.write(f\"Rekomendasi: Kurangi Jumlah HD785 menjadi maksimal {jumlah_hd2_rekomendasi:.2f} HD\")\n",
        "\n",
        "#Maximal Productivity Excavator\n",
        "HD785 = 42\n",
        "PdtyJam = 60\n",
        "RitPC = round((PdtyJam/LoadingTime),0)\n",
        "MaxRitasiPC = RitPC*HD785\n",
        "st.write(f\"Productivity Maksimal Excavator berdasarkan Parameter diperoleh {MaxRitasiPC:.2f} Bcm/Jam\")\n",
        "\n",
        "#Maximal Productivity HD\n",
        "MaxRitasiHD = MaxRitasiPC/JumlahHD\n",
        "st.write(f\"Productivity Maksimal HD785 berdasarkan Parameter diperoleh {MaxRitasiHD:.2f} Bcm/Jam\")\n",
        "\n",
        "#Mencari Speed Rata-Rata dari Parameter\n",
        "Cthd1 = CTHD - 3\n",
        "CTHDJAM = Cthd1/60\n",
        "speed = (Jarak+Jarak)/(CTHDJAM)\n",
        "st.write(f\"Speed rata-rata berdasarkan Parameter diperoleh {speed:.2f} Km/Jam\")\n"
      ]
    }
  ]
}