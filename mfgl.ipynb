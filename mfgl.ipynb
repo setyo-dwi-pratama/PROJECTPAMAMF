{
  "nbformat": 4,
  "nbformat_minor": 0,
  "metadata": {
    "colab": {
      "provenance": [],
      "authorship_tag": "ABX9TyPXH+JeYAOCAXIQqY62b6uf",
      "include_colab_link": true
    },
    "kernelspec": {
      "name": "python3",
      "display_name": "Python 3"
    },
    "language_info": {
      "name": "python"
    }
  },
  "cells": [
    {
      "cell_type": "markdown",
      "metadata": {
        "id": "view-in-github",
        "colab_type": "text"
      },
      "source": [
        "<a href=\"https://colab.research.google.com/github/setyo-dwi-pratama/PROJECTPAMAMF/blob/main/mfgl.ipynb\" target=\"_parent\"><img src=\"https://colab.research.google.com/assets/colab-badge.svg\" alt=\"Open In Colab\"/></a>"
      ]
    },
    {
      "cell_type": "code",
      "execution_count": null,
      "metadata": {
        "id": "ubZZmMy10yLx"
      },
      "outputs": [],
      "source": [
        "import streamlit as st\n",
        "\n",
        "\n",
        "st.title(\"MATCH FACTOR\")\n",
        "st.markdown(\"---\")\n",
        "st.markdown(\"Match Factor merupakan kesesuaian antara unit Loading dengan unit Hauling pada Operasional Penambangan. Tujuannya adalah untuk menentukan Kombinasi alat kerja yang optimal serta memastikan operasional berjalan dengan Produktif dan Aman\")\n",
        "st.markdown(\"Seringkali terjadi di lapangan, Jumlah unit Hauling yang sudah tersetting namun masih terjadi waktu tunggu atau antrian pada unit hauling, sehingga harus terus di monitor secara periodik 2-3 jam untuk meminimalkan waktu tunggu ataupun antrian\")\n",
        "st.markdown(\"Pada kesempatan ini, diberikan parameter untuk memonitoring secara periodik di lapangan secara langsung, dengan Settingan unit Loading dapat di sesuaikan sesuai EGI sebagai berikut, PC850, PC1250SP8, PC1250SP11R, PC2000SP8, PC200011R. Sedangankan untuk unit Hauling hanya untuk EGI HD785\")\n",
        "\n",
        "\n",
        "# Parameter MF\n",
        "JumlahHD = st.number_input(\"Masukkan Jumlah HD785 (Jumlah):\")\n",
        "Spoting = st.number_input(\"Masukkan Waktu Spotting Time (Detik):\")\n",
        "CTPC = st.number_input(\"Masukkan Waktu Cycle Time PC (Detik):\")\n",
        "Passing = st.number_input(\"Masukkan Jumlah Passing PC (Jumlah):\")\n",
        "CTHD = st.number_input(\"Masukkan Cycle Time HD (Dari keluar front sampai memasuki front kembali)(Menit):\")\n",
        "Jarak = st.number_input(\"Masukkan Jarak Front ke Disposal (KM):\")\n",
        "\n",
        "# Validasi jarak tidak boleh nol\n",
        "if Jarak <= 0:\n",
        "    st.error(\"Jarak tidak boleh nol!\")\n",
        "    Jarak = st.number_input(\"Masukkan Jarak Front ke Disposal (KM): \")\n",
        "\n",
        "# Konversi Parameter\n",
        "Spoting1 = Spoting / 60\n",
        "LoadingTime = (CTPC * Passing) / 60\n",
        "WaktuCycle = (CTHD+Spoting1+LoadingTime)\n",
        "\n",
        "# Formula MF\n",
        "hasil = (JumlahHD * (LoadingTime + Spoting1)) / (WaktuCycle)\n",
        "\n",
        "st.markdown(f\"Hasil Match Factor adalah {hasil:.2f}\")\n",
        "\n",
        "# Memeriksa Hasil MF\n",
        "if 0.95 <= hasil <= 1:\n",
        "    st.success(\"MF Good, Pertahankan Parameter! :)\")\n",
        "elif hasil < 0.95:\n",
        "    # Menentukan jumlah HD yang dibutuhkan untuk mencapai hasil minimum 0.96\n",
        "    jumlah_hd_rekomendasi = (0.96 * WaktuCycle) / (LoadingTime + Spoting1)\n",
        "    st.warning(f\"Rekomendasi: Tingkatkan Jumlah HD785 menjadi minimal {jumlah_hd_rekomendasi:.2f} HD\")\n",
        "else:\n",
        "    # Menentukan kecepatan HD yang dibutuhkan untuk mencapai hasil maksimum 1\n",
        "    speed_rekomendasi = (JumlahHD * (LoadingTime + Spoting1)) / (WaktuCycle - JumlahHD)\n",
        "    st.warning(f\"Rekomendasi: Kurangi Kecepatan HD785 menjadi maksimal {speed_rekomendasi:.2f} KM/Jam\")\n",
        "\n",
        "CthdJam = CTHD/60\n",
        "speed = Jarak/(CthdJam/2)\n",
        "st.markdown(f\"Speed rata-rata diperoleh {speed:.2f}\")"
      ]
    }
  ]
}